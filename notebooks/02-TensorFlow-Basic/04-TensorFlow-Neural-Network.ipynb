{
 "cells": [
  {
   "cell_type": "markdown",
   "source": [
    "# TensorFlow A Neural Network part One\n",
    "\n",
    "## Our steps are:\n",
    "\n",
    "1. Build a Graph\n",
    "2. Initiate the Session\n",
    "3. Feed Data in and get Output\n",
    "\n",
    "## We'll use the basic we've learned so far to accomplish this task!"
   ],
   "metadata": {
    "collapsed": false,
    "pycharm": {
     "name": "#%% md\n"
    }
   }
  },
  {
   "cell_type": "code",
   "execution_count": 95,
   "outputs": [],
   "source": [
    "import matplotlib.pyplot as plt\n",
    "import tensorflow as tf\n",
    "import numpy as np\n",
    "import matplotlib.pyplot as plt\n",
    "\n",
    "tf.compat.v1.disable_eager_execution() # important for version 1\n",
    "%matplotlib inline"
   ],
   "metadata": {
    "collapsed": false,
    "pycharm": {
     "name": "#%%\n"
    }
   }
  },
  {
   "cell_type": "code",
   "execution_count": 96,
   "outputs": [],
   "source": [
    "np.random.seed(101)\n",
    "tf.compat.v1.set_random_seed(101)"
   ],
   "metadata": {
    "collapsed": false,
    "pycharm": {
     "name": "#%%\n"
    }
   }
  },
  {
   "cell_type": "code",
   "execution_count": 97,
   "outputs": [
    {
     "data": {
      "text/plain": "array([[51.63986277, 57.06675869,  2.84742265, 17.15216562, 68.52769817],\n       [83.38968626, 30.69662197, 89.36130797, 72.15438618, 18.99389542],\n       [55.42275911, 35.2131954 , 18.18924027, 78.56017619, 96.54832224],\n       [23.23536618,  8.35614337, 60.35484223, 72.89927573, 27.62388285],\n       [68.53063288, 51.78674742,  4.84845374, 13.78692376, 18.69674261]])"
     },
     "execution_count": 97,
     "metadata": {},
     "output_type": "execute_result"
    }
   ],
   "source": [
    "rand_a = np.random.uniform(0,100,(5,5))\n",
    "rand_a\n"
   ],
   "metadata": {
    "collapsed": false,
    "pycharm": {
     "name": "#%%\n"
    }
   }
  },
  {
   "cell_type": "code",
   "execution_count": 98,
   "outputs": [
    {
     "data": {
      "text/plain": "array([[99.43179012],\n       [52.06653967],\n       [57.87895355],\n       [73.48190583],\n       [54.19617722]])"
     },
     "execution_count": 98,
     "metadata": {},
     "output_type": "execute_result"
    }
   ],
   "source": [
    "rand_b = np.random.uniform(0,100,(5,1))\n",
    "rand_b"
   ],
   "metadata": {
    "collapsed": false,
    "pycharm": {
     "name": "#%%\n"
    }
   }
  },
  {
   "cell_type": "code",
   "execution_count": 99,
   "outputs": [],
   "source": [
    "a = tf.compat.v1.placeholder(tf.float32)"
   ],
   "metadata": {
    "collapsed": false,
    "pycharm": {
     "name": "#%%\n"
    }
   }
  },
  {
   "cell_type": "code",
   "execution_count": 100,
   "outputs": [],
   "source": [
    "b = tf.compat.v1.placeholder(tf.float32)"
   ],
   "metadata": {
    "collapsed": false,
    "pycharm": {
     "name": "#%%\n"
    }
   }
  },
  {
   "cell_type": "code",
   "execution_count": 101,
   "outputs": [],
   "source": [
    "add_op = a + b"
   ],
   "metadata": {
    "collapsed": false,
    "pycharm": {
     "name": "#%%\n"
    }
   }
  },
  {
   "cell_type": "code",
   "execution_count": 102,
   "outputs": [],
   "source": [
    "mul_op = a * b"
   ],
   "metadata": {
    "collapsed": false,
    "pycharm": {
     "name": "#%%\n"
    }
   }
  },
  {
   "cell_type": "code",
   "execution_count": 103,
   "outputs": [
    {
     "name": "stdout",
     "output_type": "stream",
     "text": [
      "[[151.07166  156.49855  102.27921  116.58396  167.95949 ]\n",
      " [135.45622   82.76316  141.42784  124.22093   71.06043 ]\n",
      " [113.30171   93.09215   76.06819  136.43912  154.42728 ]\n",
      " [ 96.71727   81.83804  133.83675  146.38118  101.10579 ]\n",
      " [122.72681  105.982925  59.044632  67.9831    72.89292 ]]\n"
     ]
    }
   ],
   "source": [
    "with tf.compat.v1.Session() as sess:\n",
    "\n",
    "    add_result = sess.run(add_op,feed_dict={a:rand_a,b:rand_b})\n",
    "    print(add_result)"
   ],
   "metadata": {
    "collapsed": false,
    "pycharm": {
     "name": "#%%\n"
    }
   }
  },
  {
   "cell_type": "markdown",
   "source": [
    "# TensorFlow A Neural Network part Two \"Example of a Neural Network\"\n",
    "\n"
   ],
   "metadata": {
    "collapsed": false,
    "pycharm": {
     "name": "#%% md\n"
    }
   }
  },
  {
   "cell_type": "markdown",
   "source": [
    "# Matrix multiplycation\n",
    "\n",
    "Remember that"
   ],
   "metadata": {
    "collapsed": false,
    "pycharm": {
     "name": "#%% md\n"
    }
   }
  },
  {
   "cell_type": "code",
   "execution_count": 104,
   "outputs": [],
   "source": [
    "n_features = 10\n",
    "n_dense_neuorons = 3"
   ],
   "metadata": {
    "collapsed": false,
    "pycharm": {
     "name": "#%%\n"
    }
   }
  },
  {
   "cell_type": "markdown",
   "source": [
    "# Example of a Tensorflow Graph\n",
    "\n",
    "![TensorFlow Graph](TensorFlowGraph.png)"
   ],
   "metadata": {
    "collapsed": false,
    "pycharm": {
     "name": "#%% md\n"
    }
   }
  },
  {
   "cell_type": "code",
   "execution_count": 105,
   "outputs": [],
   "source": [
    "x = tf.compat.v1.placeholder(tf.float32,(None,n_features))"
   ],
   "metadata": {
    "collapsed": false,
    "pycharm": {
     "name": "#%%\n"
    }
   }
  },
  {
   "cell_type": "code",
   "execution_count": 106,
   "outputs": [],
   "source": [
    "Weights = tf.Variable(tf.compat.v1.random_normal([n_features,n_dense_neuorons]))\n",
    "\n",
    "bias = tf.Variable(tf.ones([n_dense_neuorons]))"
   ],
   "metadata": {
    "collapsed": false,
    "pycharm": {
     "name": "#%%\n"
    }
   }
  },
  {
   "cell_type": "code",
   "execution_count": 107,
   "outputs": [],
   "source": [
    "xW = tf.matmul(x,Weights)"
   ],
   "metadata": {
    "collapsed": false,
    "pycharm": {
     "name": "#%%\n"
    }
   }
  },
  {
   "cell_type": "code",
   "execution_count": 108,
   "outputs": [],
   "source": [
    "z = tf.add(xW,bias)"
   ],
   "metadata": {
    "collapsed": false,
    "pycharm": {
     "name": "#%%\n"
    }
   }
  },
  {
   "cell_type": "code",
   "execution_count": 109,
   "outputs": [],
   "source": [
    "a = tf.sigmoid(z)"
   ],
   "metadata": {
    "collapsed": false,
    "pycharm": {
     "name": "#%%\n"
    }
   }
  },
  {
   "cell_type": "code",
   "execution_count": 110,
   "outputs": [],
   "source": [
    "init = tf.compat.v1.global_variables_initializer()"
   ],
   "metadata": {
    "collapsed": false,
    "pycharm": {
     "name": "#%%\n"
    }
   }
  },
  {
   "cell_type": "code",
   "execution_count": 111,
   "outputs": [],
   "source": [
    "with tf.compat.v1.Session() as sess:\n",
    "\n",
    "    sess.run(init)\n",
    "\n",
    "    layer_out = sess.run(a,feed_dict={x:np.random.random([1,n_features])})"
   ],
   "metadata": {
    "collapsed": false,
    "pycharm": {
     "name": "#%%\n"
    }
   }
  },
  {
   "cell_type": "code",
   "execution_count": 112,
   "outputs": [
    {
     "name": "stdout",
     "output_type": "stream",
     "text": [
      "[[0.70294994 0.8543769  0.32494378]]\n"
     ]
    }
   ],
   "source": [
    "print(layer_out)"
   ],
   "metadata": {
    "collapsed": false,
    "pycharm": {
     "name": "#%%\n"
    }
   }
  },
  {
   "cell_type": "markdown",
   "source": [
    "## Simple Regression Example"
   ],
   "metadata": {
    "collapsed": false,
    "pycharm": {
     "name": "#%% md\n"
    }
   }
  },
  {
   "cell_type": "code",
   "execution_count": 113,
   "outputs": [],
   "source": [
    "# linear line with some noise added\n",
    "\n",
    "x_data = np.linspace(0,10,10) + np.random.uniform(-1.5,1.5,10)"
   ],
   "metadata": {
    "collapsed": false,
    "pycharm": {
     "name": "#%%\n"
    }
   }
  },
  {
   "cell_type": "code",
   "execution_count": 114,
   "outputs": [
    {
     "data": {
      "text/plain": "array([-1.20856056, -0.08034641,  2.82674411,  4.50477294,  3.42312535,\n        4.88227319,  7.18414126,  6.77068715,  9.4930023 ,  9.96290567])"
     },
     "execution_count": 114,
     "metadata": {},
     "output_type": "execute_result"
    }
   ],
   "source": [
    "x_data"
   ],
   "metadata": {
    "collapsed": false,
    "pycharm": {
     "name": "#%%\n"
    }
   }
  },
  {
   "cell_type": "code",
   "execution_count": 115,
   "outputs": [],
   "source": [
    "y_label = np.linspace(0,10,10) + np.random.uniform(-1.5,1.5,10)"
   ],
   "metadata": {
    "collapsed": false,
    "pycharm": {
     "name": "#%%\n"
    }
   }
  },
  {
   "cell_type": "code",
   "execution_count": 116,
   "outputs": [
    {
     "data": {
      "text/plain": "[<matplotlib.lines.Line2D at 0x1fac47516c0>]"
     },
     "execution_count": 116,
     "metadata": {},
     "output_type": "execute_result"
    },
    {
     "data": {
      "text/plain": "<Figure size 432x288 with 1 Axes>",
      "image/png": "[encoded data removed]"
     },
     "metadata": {
      "needs_background": "light"
     },
     "output_type": "display_data"
    }
   ],
   "source": [
    "plt.plot(x_data,y_label,'*')"
   ],
   "metadata": {
    "collapsed": false,
    "pycharm": {
     "name": "#%%\n"
    }
   }
  },
  {
   "cell_type": "code",
   "execution_count": 117,
   "outputs": [],
   "source": [
    "# The Neural network has to solve the equation y = mx + b\n",
    "\n",
    "# m and b has been chosen randomly it is up to the Neural network with it's cost function to adjust\n",
    "\n",
    "np.random.rand(2)\n",
    "\n",
    "m = tf.Variable(0.33)\n",
    "b = tf.Variable(0.65)"
   ],
   "metadata": {
    "collapsed": false,
    "pycharm": {
     "name": "#%%\n"
    }
   }
  },
  {
   "cell_type": "code",
   "execution_count": 118,
   "outputs": [],
   "source": [
    "# cost/error function\n",
    "\n",
    "error = 0\n",
    "\n",
    "for x,y in zip(x_data,y_label):\n",
    "\n",
    "    y_hat = m*x + b\n",
    "\n",
    "    error += (y - y_hat)**2 # error is different compared to real output. squared is to really punish the error"
   ],
   "metadata": {
    "collapsed": false,
    "pycharm": {
     "name": "#%%\n"
    }
   }
  },
  {
   "cell_type": "code",
   "execution_count": 119,
   "outputs": [],
   "source": [
    "optimizer = tf.compat.v1.train.GradientDescentOptimizer(learning_rate=0.001)\n",
    "train = optimizer.minimize(error)"
   ],
   "metadata": {
    "collapsed": false,
    "pycharm": {
     "name": "#%%\n"
    }
   }
  },
  {
   "cell_type": "code",
   "execution_count": 120,
   "outputs": [],
   "source": [
    "init = tf.compat.v1.global_variables_initializer()"
   ],
   "metadata": {
    "collapsed": false,
    "pycharm": {
     "name": "#%%\n"
    }
   }
  },
  {
   "cell_type": "code",
   "execution_count": 125,
   "outputs": [],
   "source": [
    "with tf.compat.v1.Session() as sess:\n",
    "\n",
    "    sess.run(init)\n",
    "\n",
    "    training_steps = 100\n",
    "\n",
    "    for i in range(training_steps):\n",
    "\n",
    "        sess.run(train)\n",
    "\n",
    "    final_slope, final_intercept = sess.run([m,b])\n"
   ],
   "metadata": {
    "collapsed": false,
    "pycharm": {
     "name": "#%%\n"
    }
   }
  },
  {
   "cell_type": "code",
   "execution_count": 126,
   "outputs": [
    {
     "data": {
      "text/plain": "[<matplotlib.lines.Line2D at 0x1fac333d5a0>]"
     },
     "execution_count": 126,
     "metadata": {},
     "output_type": "execute_result"
    },
    {
     "data": {
      "text/plain": "<Figure size 432x288 with 1 Axes>",
      "image/png": "[encoded data removed]"
     },
     "metadata": {
      "needs_background": "light"
     },
     "output_type": "display_data"
    }
   ],
   "source": [
    "x_test = np.linspace(-1,11,10)\n",
    "\n",
    "# y = mx + b\n",
    "y_pred_plot = final_slope * x_test + final_intercept\n",
    "\n",
    "plt.plot(x_test,y_pred_plot)\n",
    "plt.plot(x_data,y_label,'*')"
   ],
   "metadata": {
    "collapsed": false,
    "pycharm": {
     "name": "#%%\n"
    }
   }
  }
 ],
 "metadata": {
  "kernelspec": {
   "display_name": "Python 3",
   "language": "python",
   "name": "python3"
  },
  "language_info": {
   "codemirror_mode": {
    "name": "ipython",
    "version": 2
   },
   "file_extension": ".py",
   "mimetype": "text/x-python",
   "name": "python",
   "nbconvert_exporter": "python",
   "pygments_lexer": "ipython2",
   "version": "2.7.6"
  }
 },
 "nbformat": 4,
 "nbformat_minor": 0
}