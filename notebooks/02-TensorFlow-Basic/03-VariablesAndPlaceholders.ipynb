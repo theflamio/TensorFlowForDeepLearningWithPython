{
 "cells": [
  {
   "cell_type": "markdown",
   "source": [
    "# Variables and Placeholders\n",
    "\n",
    "There are two main types of tensor objects in a Graph:\n",
    "\n",
    "1. Variables\n",
    "2. Placeholders\n",
    "\n",
    "\n",
    "During the optimization process TensorFlow tunes the parameters of the model.\n",
    "\n",
    "1. Variables can hold the values of weights and biases throughout the session.\n",
    "\n",
    "2. Variables need to be initialized.\n",
    "\n",
    "3. Placeholders are initially empty and are used to feed in the actual training examples.\n",
    "\n",
    "4. However, they do need a declared expected data type (tf.float32) with an optional shape argument.\n"
   ],
   "metadata": {
    "collapsed": false,
    "pycharm": {
     "name": "#%% md\n"
    }
   }
  },
  {
   "cell_type": "code",
   "execution_count": null,
   "outputs": [],
   "source": [],
   "metadata": {
    "collapsed": false,
    "pycharm": {
     "name": "#%%\n"
    }
   }
  }
 ],
 "metadata": {
  "kernelspec": {
   "display_name": "Python 3",
   "language": "python",
   "name": "python3"
  },
  "language_info": {
   "codemirror_mode": {
    "name": "ipython",
    "version": 2
   },
   "file_extension": ".py",
   "mimetype": "text/x-python",
   "name": "python",
   "nbconvert_exporter": "python",
   "pygments_lexer": "ipython2",
   "version": "2.7.6"
  }
 },
 "nbformat": 4,
 "nbformat_minor": 0
}