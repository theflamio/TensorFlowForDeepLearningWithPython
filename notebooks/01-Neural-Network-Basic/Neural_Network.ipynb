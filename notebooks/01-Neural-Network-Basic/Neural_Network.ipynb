{
 "cells": [
  {
   "cell_type": "code",
   "execution_count": 26,
   "metadata": {
    "collapsed": true,
    "pycharm": {
     "name": "#%%\n"
    }
   },
   "outputs": [
    {
     "data": {
      "text/plain": "'\\n\\nOperation - aka activation function\\nInput Nodes - aka\\nOutput Nodes - aka\\n\\n\\nOperation Class\\n    * Input Nodes\\n    * Output Nodes\\n    * Global Default Graph Variable\\n    * Compute\\n        * Overwritten by extended classes\\n'"
     },
     "execution_count": 26,
     "metadata": {},
     "output_type": "execute_result"
    }
   ],
   "source": [
    "'''\n",
    "\n",
    "Operation - aka activation function\n",
    "Input Nodes - aka\n",
    "Output Nodes - aka\n",
    "\n",
    "\n",
    "Operation Class\n",
    "    * Input Nodes\n",
    "    * Output Nodes\n",
    "    * Global Default Graph Variable\n",
    "    * Compute\n",
    "        * Overwritten by extended classes\n",
    "'''"
   ]
  },
  {
   "cell_type": "code",
   "execution_count": 27,
   "outputs": [],
   "source": [
    "'''\n",
    "Graph is a list of nodes\n",
    "\n",
    "'''\n",
    "\n",
    "class Operation:\n",
    "\n",
    "    def __init__(self, input_nodes=[]):\n",
    "\n",
    "        self.input_nodes = input_nodes\n",
    "        self.output_nodes = []\n",
    "\n",
    "        for node in input_nodes:\n",
    "            node.output_nodes.append(self)\n",
    "\n",
    "        _default_graph.operations.append(self)\n",
    "\n",
    "    def compute(self):\n",
    "        pass"
   ],
   "metadata": {
    "collapsed": false,
    "pycharm": {
     "name": "#%%\n"
    }
   }
  },
  {
   "cell_type": "code",
   "execution_count": 28,
   "outputs": [],
   "source": [
    "class Add(Operation):\n",
    "\n",
    "    def __init__(self, x, y):\n",
    "        super.__init__([x, y])\n",
    "        self.inputs = None\n",
    "\n",
    "    def compute(self,x_var, y_var):\n",
    "        self.inputs = [x_var, y_var]\n",
    "\n",
    "        return x_var + y_var\n"
   ],
   "metadata": {
    "collapsed": false,
    "pycharm": {
     "name": "#%%\n"
    }
   }
  },
  {
   "cell_type": "code",
   "execution_count": 29,
   "outputs": [],
   "source": [
    "class Multiply(Operation):\n",
    "\n",
    "    def __init__(self, x, y):\n",
    "        super.__init__([x, y])\n",
    "        self.inputs = None\n",
    "\n",
    "    def compute(self,x_var, y_var):\n",
    "        self.inputs = [x_var, y_var]\n",
    "\n",
    "        return x_var * y_var"
   ],
   "metadata": {
    "collapsed": false,
    "pycharm": {
     "name": "#%%\n"
    }
   }
  },
  {
   "cell_type": "code",
   "execution_count": 30,
   "outputs": [],
   "source": [
    "class MatMul(Operation):\n",
    "\n",
    "    def __init__(self, x, y):\n",
    "        super.__init__([x, y])\n",
    "        self.inputs = None\n",
    "\n",
    "    def compute(self,x_var, y_var):\n",
    "        self.inputs = [x_var, y_var]\n",
    "\n",
    "        return x_var.dot(y_var) # dot product of a matrix"
   ],
   "metadata": {
    "collapsed": false,
    "pycharm": {
     "name": "#%%\n"
    }
   }
  },
  {
   "cell_type": "code",
   "execution_count": 31,
   "outputs": [
    {
     "data": {
      "text/plain": "\"\\nVariables - Changeable parameter of Graph.\\n\\nPlaceholders - An 'empty' node that needs a value to be provided to compute output.\\n\\nGraphs - Global variable connection variables and placeholders to operations.\\n\""
     },
     "execution_count": 31,
     "metadata": {},
     "output_type": "execute_result"
    }
   ],
   "source": [
    "'''\n",
    "Variables - Changeable parameter of Graph.\n",
    "\n",
    "Placeholders - An 'empty' node that needs a value to be provided to compute output.\n",
    "\n",
    "Graphs - Global variable connection variables and placeholders to operations.\n",
    "'''"
   ],
   "metadata": {
    "collapsed": false,
    "pycharm": {
     "name": "#%%\n"
    }
   }
  },
  {
   "cell_type": "code",
   "execution_count": 32,
   "outputs": [],
   "source": [
    "class Placeholder():\n",
    "\n",
    "    def __init__(self):\n",
    "\n",
    "        self.output_nodes = []\n",
    "\n",
    "        _default_graph.paceholders.append(self)"
   ],
   "metadata": {
    "collapsed": false,
    "pycharm": {
     "name": "#%%\n"
    }
   }
  },
  {
   "cell_type": "code",
   "execution_count": 33,
   "outputs": [],
   "source": [
    "class Variable():\n",
    "\n",
    "    def __init__(self,initial_value=None):\n",
    "\n",
    "        self.value = initial_value\n",
    "        self.output_nodes = []\n",
    "\n",
    "        _default_graph.variable.append(self)"
   ],
   "metadata": {
    "collapsed": false,
    "pycharm": {
     "name": "#%%\n"
    }
   }
  },
  {
   "cell_type": "code",
   "execution_count": 34,
   "outputs": [],
   "source": [
    "class Graph():\n",
    "\n",
    "    def __init__(self,initial_value=None):\n",
    "\n",
    "        self.operations = []\n",
    "        self.placeholders = []\n",
    "        self.variables = []\n",
    "\n",
    "    def set_as_default(self):\n",
    "\n",
    "        global _default_graph\n",
    "        _default_graph = self"
   ],
   "metadata": {
    "collapsed": false,
    "pycharm": {
     "name": "#%%\n"
    }
   }
  },
  {
   "cell_type": "code",
   "execution_count": 35,
   "outputs": [
    {
     "data": {
      "text/plain": "'\\nz = Ax + b\\n\\nA = 10 - input 1\\nb = 1 - input 2\\n\\nz = 10x + 1 - x is the place holder\\n\\nz is the output\\n'"
     },
     "execution_count": 35,
     "metadata": {},
     "output_type": "execute_result"
    }
   ],
   "source": [
    "'''\n",
    "z = Ax + b\n",
    "\n",
    "A = 10 - input 1\n",
    "b = 1 - input 2\n",
    "\n",
    "z = 10x + 1 - x is the place holder\n",
    "\n",
    "z is the output\n",
    "'''"
   ],
   "metadata": {
    "collapsed": false,
    "pycharm": {
     "name": "#%%\n"
    }
   }
  },
  {
   "cell_type": "code",
   "execution_count": 36,
   "outputs": [],
   "source": [
    "g = Graph()"
   ],
   "metadata": {
    "collapsed": false,
    "pycharm": {
     "name": "#%%\n"
    }
   }
  },
  {
   "cell_type": "code",
   "execution_count": 23,
   "outputs": [],
   "source": [
    "g.set_as_default()"
   ],
   "metadata": {
    "collapsed": false,
    "pycharm": {
     "name": "#%%\n"
    }
   }
  },
  {
   "cell_type": "code",
   "execution_count": 37,
   "outputs": [
    {
     "ename": "AttributeError",
     "evalue": "'Graph' object has no attribute 'variable'",
     "output_type": "error",
     "traceback": [
      "\u001B[1;31m---------------------------------------------------------------------------\u001B[0m",
      "\u001B[1;31mAttributeError\u001B[0m                            Traceback (most recent call last)",
      "Input \u001B[1;32mIn [37]\u001B[0m, in \u001B[0;36m<module>\u001B[1;34m\u001B[0m\n\u001B[1;32m----> 1\u001B[0m A \u001B[38;5;241m=\u001B[39m \u001B[43mVariable\u001B[49m\u001B[43m(\u001B[49m\u001B[38;5;241;43m10\u001B[39;49m\u001B[43m)\u001B[49m\n",
      "Input \u001B[1;32mIn [33]\u001B[0m, in \u001B[0;36mVariable.__init__\u001B[1;34m(self, initial_value)\u001B[0m\n\u001B[0;32m      5\u001B[0m \u001B[38;5;28mself\u001B[39m\u001B[38;5;241m.\u001B[39mvalue \u001B[38;5;241m=\u001B[39m initial_value\n\u001B[0;32m      6\u001B[0m \u001B[38;5;28mself\u001B[39m\u001B[38;5;241m.\u001B[39moutput_nodes \u001B[38;5;241m=\u001B[39m []\n\u001B[1;32m----> 8\u001B[0m \u001B[43m_default_graph\u001B[49m\u001B[38;5;241;43m.\u001B[39;49m\u001B[43mvariable\u001B[49m\u001B[38;5;241m.\u001B[39mappend(\u001B[38;5;28mself\u001B[39m)\n",
      "\u001B[1;31mAttributeError\u001B[0m: 'Graph' object has no attribute 'variable'"
     ]
    }
   ],
   "source": [
    "A = Variable(10)"
   ],
   "metadata": {
    "collapsed": false,
    "pycharm": {
     "name": "#%%\n"
    }
   }
  },
  {
   "cell_type": "code",
   "execution_count": null,
   "outputs": [],
   "source": [
    "b = Variable(1)"
   ],
   "metadata": {
    "collapsed": false,
    "pycharm": {
     "name": "#%%\n"
    }
   }
  },
  {
   "cell_type": "code",
   "execution_count": null,
   "outputs": [],
   "source": [
    "x = Placeholder()"
   ],
   "metadata": {
    "collapsed": false,
    "pycharm": {
     "name": "#%%\n"
    }
   }
  },
  {
   "cell_type": "code",
   "execution_count": null,
   "outputs": [],
   "source": [
    "y = Multiply(A,x)"
   ],
   "metadata": {
    "collapsed": false,
    "pycharm": {
     "name": "#%%\n"
    }
   }
  },
  {
   "cell_type": "code",
   "execution_count": null,
   "outputs": [],
   "source": [
    "z = Add(y,b)"
   ],
   "metadata": {
    "collapsed": false,
    "pycharm": {
     "name": "#%%\n"
    }
   }
  },
  {
   "cell_type": "code",
   "execution_count": null,
   "outputs": [],
   "source": [
    "'''\n",
    "We will use a PostOrder Tree Traversal to make sure we execute the nodes in the correct order.\n",
    "'''"
   ],
   "metadata": {
    "collapsed": false,
    "pycharm": {
     "name": "#%%\n"
    }
   }
  }
 ],
 "metadata": {
  "kernelspec": {
   "display_name": "Python 3",
   "language": "python",
   "name": "python3"
  },
  "language_info": {
   "codemirror_mode": {
    "name": "ipython",
    "version": 2
   },
   "file_extension": ".py",
   "mimetype": "text/x-python",
   "name": "python",
   "nbconvert_exporter": "python",
   "pygments_lexer": "ipython2",
   "version": "2.7.6"
  }
 },
 "nbformat": 4,
 "nbformat_minor": 0
}