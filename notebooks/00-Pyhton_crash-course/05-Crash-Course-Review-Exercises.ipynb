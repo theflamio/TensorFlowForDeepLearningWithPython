{
 "cells": [
  {
   "cell_type": "markdown",
   "metadata": {
    "pycharm": {
     "name": "#%% md\n"
    }
   },
   "source": [
    "# Crash Course Review Exercises "
   ]
  },
  {
   "cell_type": "markdown",
   "metadata": {
    "pycharm": {
     "name": "#%% md\n"
    }
   },
   "source": [
    "** Import numpy,pandas,matplotlib,and sklearn. Also set visualizations to be shown inline in the notebook.**"
   ]
  },
  {
   "cell_type": "code",
   "execution_count": 33,
   "metadata": {
    "collapsed": true,
    "pycharm": {
     "name": "#%%\n"
    }
   },
   "outputs": [
    {
     "name": "stderr",
     "output_type": "stream",
     "text": [
      "UsageError: unrecognized arguments: # no need for plt.show()\n"
     ]
    }
   ],
   "source": [
    "import numpy as np\n",
    "import pandas as pd\n",
    "import matplotlib.pyplot as plt\n",
    "from sklearn.preprocessing import MinMaxScaler\n",
    "\n",
    "%matplotlib inline # no need for plt.show()"
   ]
  },
  {
   "cell_type": "markdown",
   "metadata": {
    "pycharm": {
     "name": "#%% md\n"
    }
   },
   "source": [
    "** Set Numpy's Random Seed to 101 **"
   ]
  },
  {
   "cell_type": "code",
   "execution_count": null,
   "metadata": {
    "collapsed": true,
    "pycharm": {
     "name": "#%%\n"
    }
   },
   "outputs": [],
   "source": [
    "np.random.seed(101)"
   ]
  },
  {
   "cell_type": "markdown",
   "metadata": {
    "pycharm": {
     "name": "#%% md\n"
    }
   },
   "source": [
    "** Create a NumPy Matrix of 100 rows by 5 columns consisting of random integers from 1-100. (Keep in mind that the upper limit may be exclusive.**"
   ]
  },
  {
   "cell_type": "code",
   "execution_count": null,
   "metadata": {
    "collapsed": true,
    "pycharm": {
     "name": "#%%\n"
    }
   },
   "outputs": [],
   "source": [
    "mat = np.random.randint(0,100,(100,5))"
   ]
  },
  {
   "cell_type": "markdown",
   "metadata": {
    "pycharm": {
     "name": "#%% md\n"
    }
   },
   "source": [
    "** Create a 2-D visualization using plt.imshow of the numpy matrix with a colorbar. Add a title to your plot. Bonus: Figure out how to change the [*aspect*](https://stackoverflow.com/questions/10540929/figure-of-imshow-is-too-small) of the imshow() plot. **"
   ]
  },
  {
   "cell_type": "code",
   "execution_count": null,
   "metadata": {
    "pycharm": {
     "name": "#%%\n"
    }
   },
   "outputs": [],
   "source": [
    "plt.imshow(mat, aspect='0.05')\n",
    "plt.colorbar()\n",
    "plt.title('Title')"
   ]
  },
  {
   "cell_type": "markdown",
   "metadata": {
    "pycharm": {
     "name": "#%% md\n"
    }
   },
   "source": [
    "** Now use pd.DataFrame() to read in this numpy array as a dataframe. Simple pass in the numpy array into that function to get back a dataframe. Pandas will auto label the columns to 0-4**"
   ]
  },
  {
   "cell_type": "code",
   "execution_count": null,
   "metadata": {
    "collapsed": true,
    "pycharm": {
     "name": "#%%\n"
    }
   },
   "outputs": [],
   "source": [
    "df = pd.DataFrame(mat)"
   ]
  },
  {
   "cell_type": "markdown",
   "metadata": {
    "pycharm": {
     "name": "#%% md\n"
    }
   },
   "source": [
    "** Now create a scatter plot using pandas of the 0 column vs the 1 column. **"
   ]
  },
  {
   "cell_type": "code",
   "execution_count": null,
   "metadata": {
    "pycharm": {
     "name": "#%%\n"
    }
   },
   "outputs": [],
   "source": [
    "df.plot.scatter(x=0,y=1)"
   ]
  },
  {
   "cell_type": "markdown",
   "metadata": {
    "pycharm": {
     "name": "#%% md\n"
    }
   },
   "source": [
    "** Now scale the data to have a minimum of 0 and a maximum value of 1 using scikit-learn. **"
   ]
  },
  {
   "cell_type": "code",
   "execution_count": 34,
   "metadata": {
    "collapsed": true,
    "pycharm": {
     "name": "#%%\n"
    }
   },
   "outputs": [],
   "source": [
    "scaler_model = MinMaxScaler()"
   ]
  },
  {
   "cell_type": "code",
   "execution_count": 35,
   "outputs": [
    {
     "data": {
      "text/plain": "array([[0.82105263, 0.72164948, 0.63265306, 0.87628866, 0.77083333],\n       [0.06315789, 0.79381443, 0.39795918, 0.02061856, 0.64583333],\n       [0.38947368, 0.6185567 , 0.92857143, 0.63917526, 0.04166667],\n       [0.09473684, 0.95876289, 0.39795918, 0.48453608, 0.85416667],\n       [0.05263158, 0.29896907, 0.59183673, 0.32989691, 0.44791667],\n       [0.72631579, 0.19587629, 0.09183673, 0.7628866 , 0.97916667],\n       [0.88421053, 0.        , 0.73469388, 0.06185567, 0.63541667],\n       [0.34736842, 0.8556701 , 1.        , 0.26804124, 0.64583333],\n       [0.04210526, 0.10309278, 0.52040816, 0.55670103, 0.38541667],\n       [0.73684211, 0.53608247, 0.17346939, 0.71134021, 0.14583333],\n       [0.43157895, 0.        , 0.1122449 , 0.15463918, 0.77083333],\n       [0.8       , 1.        , 0.93877551, 0.22680412, 0.36458333],\n       [0.63157895, 0.19587629, 0.34693878, 0.28865979, 0.09375   ],\n       [0.6       , 0.20618557, 0.26530612, 0.06185567, 0.88541667],\n       [0.24210526, 0.89690722, 0.45918367, 0.46391753, 0.55208333],\n       [0.87368421, 0.09278351, 0.44897959, 0.        , 0.17708333],\n       [0.57894737, 0.94845361, 0.10204082, 0.08247423, 0.96875   ],\n       [0.33684211, 0.28865979, 0.02040816, 0.83505155, 0.86458333],\n       [0.46315789, 0.1443299 , 0.69387755, 0.59793814, 0.70833333],\n       [0.50526316, 0.06185567, 0.8877551 , 0.71134021, 0.69791667],\n       [0.21052632, 0.36082474, 0.79591837, 0.98969072, 0.6875    ],\n       [0.83157895, 0.58762887, 0.7755102 , 0.45360825, 0.02083333],\n       [0.45263158, 0.29896907, 0.86734694, 0.19587629, 0.20833333],\n       [0.82105263, 0.2371134 , 0.94897959, 0.71134021, 0.19791667],\n       [0.25263158, 0.77319588, 0.04081633, 0.48453608, 0.88541667],\n       [0.90526316, 0.64948454, 0.82653061, 0.77319588, 0.02083333],\n       [0.55789474, 0.1443299 , 0.48979592, 0.87628866, 0.53125   ],\n       [0.10526316, 0.48453608, 0.48979592, 0.22680412, 0.19791667],\n       [0.64210526, 0.53608247, 0.60204082, 0.46391753, 0.29166667],\n       [0.6       , 0.54639175, 0.10204082, 0.39175258, 0.9375    ],\n       [0.44210526, 1.        , 0.23469388, 0.35051546, 0.38541667],\n       [0.06315789, 0.53608247, 0.67346939, 0.42268041, 0.        ],\n       [0.8       , 0.70103093, 0.68367347, 0.60824742, 0.17708333],\n       [0.50526316, 0.1443299 , 0.2755102 , 0.15463918, 0.89583333],\n       [0.45263158, 0.53608247, 0.15306122, 0.70103093, 0.72916667],\n       [0.85263158, 0.10309278, 0.62244898, 0.96907216, 0.58333333],\n       [0.21052632, 0.88659794, 0.85714286, 0.24742268, 0.78125   ],\n       [0.66315789, 0.55670103, 0.16326531, 0.64948454, 0.58333333],\n       [0.90526316, 0.02061856, 0.80612245, 0.49484536, 0.67708333],\n       [0.89473684, 0.81443299, 0.93877551, 0.04123711, 0.94791667],\n       [0.41052632, 0.22680412, 0.19387755, 0.2371134 , 1.        ],\n       [0.53684211, 0.73195876, 0.7244898 , 0.80412371, 0.95833333],\n       [0.64210526, 0.64948454, 0.80612245, 0.37113402, 0.45833333],\n       [0.33684211, 0.25773196, 0.95918367, 0.75257732, 0.73958333],\n       [0.08421053, 0.78350515, 0.79591837, 0.49484536, 0.21875   ],\n       [0.58947368, 0.68041237, 0.        , 0.32989691, 0.375     ],\n       [0.56842105, 0.36082474, 0.41836735, 0.43298969, 0.5       ],\n       [0.29473684, 0.81443299, 0.85714286, 0.01030928, 0.5625    ],\n       [0.73684211, 0.95876289, 0.94897959, 1.        , 0.40625   ],\n       [0.53684211, 0.90721649, 0.94897959, 0.86597938, 0.16666667],\n       [0.68421053, 0.17525773, 0.17346939, 0.59793814, 0.85416667],\n       [0.83157895, 0.07216495, 0.67346939, 0.32989691, 0.78125   ],\n       [0.95789474, 0.20618557, 0.69387755, 0.73195876, 0.60416667],\n       [0.32631579, 0.71134021, 0.24489796, 0.78350515, 0.94791667],\n       [0.74736842, 0.77319588, 0.32653061, 0.07216495, 0.4375    ],\n       [0.17894737, 0.84536082, 0.29591837, 0.01030928, 0.46875   ],\n       [0.27368421, 0.48453608, 0.26530612, 0.81443299, 0.72916667],\n       [0.23157895, 0.96907216, 0.57142857, 0.19587629, 0.29166667],\n       [0.03157895, 0.55670103, 0.46938776, 0.46391753, 0.61458333],\n       [0.03157895, 0.77319588, 0.97959184, 0.5257732 , 0.44791667],\n       [1.        , 0.40206186, 0.31632653, 0.87628866, 0.80208333],\n       [0.18947368, 0.92783505, 0.13265306, 0.18556701, 0.        ],\n       [0.70526316, 0.25773196, 0.44897959, 0.96907216, 0.32291667],\n       [0.29473684, 0.42268041, 0.79591837, 0.87628866, 0.21875   ],\n       [0.95789474, 0.4742268 , 0.71428571, 0.22680412, 0.41666667],\n       [0.34736842, 0.31958763, 0.15306122, 0.87628866, 0.21875   ],\n       [0.97894737, 0.03092784, 0.1122449 , 0.71134021, 0.08333333],\n       [0.88421053, 0.97938144, 0.3877551 , 0.63917526, 0.63541667],\n       [0.89473684, 0.78350515, 0.93877551, 0.83505155, 0.97916667],\n       [0.68421053, 0.71134021, 0.59183673, 0.51546392, 0.0625    ],\n       [0.38947368, 0.75257732, 0.86734694, 0.12371134, 0.5       ],\n       [0.98947368, 0.25773196, 0.57142857, 0.39175258, 0.16666667],\n       [0.30526316, 0.8556701 , 0.97959184, 0.25773196, 0.47916667],\n       [0.10526316, 0.72164948, 0.14285714, 0.92783505, 0.17708333],\n       [0.95789474, 0.49484536, 0.65306122, 0.82474227, 0.34375   ],\n       [0.02105263, 0.4742268 , 0.83673469, 0.25773196, 0.26041667],\n       [0.17894737, 0.89690722, 0.84693878, 0.15463918, 0.60416667],\n       [0.64210526, 0.45360825, 0.03061224, 0.50515464, 0.5       ],\n       [0.74736842, 0.84536082, 0.36734694, 0.5257732 , 0.95833333],\n       [0.73684211, 0.05154639, 0.36734694, 0.55670103, 0.35416667],\n       [0.12631579, 0.41237113, 0.41836735, 0.71134021, 0.375     ],\n       [0.45263158, 0.73195876, 0.91836735, 0.97938144, 0.36458333],\n       [0.42105263, 0.27835052, 0.66326531, 0.56701031, 0.02083333],\n       [0.54736842, 0.72164948, 0.40816327, 0.67010309, 0.73958333],\n       [0.89473684, 0.69072165, 0.75510204, 0.69072165, 0.94791667],\n       [0.17894737, 0.15463918, 0.57142857, 0.07216495, 0.70833333],\n       [0.98947368, 0.93814433, 0.51020408, 0.53608247, 0.45833333],\n       [0.36842105, 0.15463918, 0.41836735, 0.60824742, 0.07291667],\n       [0.        , 0.90721649, 0.7244898 , 0.40206186, 0.23958333],\n       [0.94736842, 0.28865979, 0.95918367, 0.42268041, 0.48958333],\n       [0.69473684, 0.43298969, 0.66326531, 0.82474227, 0.67708333],\n       [0.89473684, 0.80412371, 0.13265306, 0.5257732 , 0.46875   ],\n       [0.11578947, 0.27835052, 0.68367347, 0.19587629, 0.38541667],\n       [0.41052632, 0.30927835, 0.8877551 , 0.79381443, 0.57291667],\n       [0.65263158, 0.95876289, 0.36734694, 0.87628866, 0.67708333],\n       [0.13684211, 0.6185567 , 0.24489796, 1.        , 0.30208333],\n       [0.4       , 0.74226804, 0.44897959, 0.24742268, 0.89583333],\n       [0.65263158, 0.6185567 , 0.89795918, 0.70103093, 0.33333333],\n       [0.58947368, 0.28865979, 0.15306122, 0.48453608, 0.97916667],\n       [0.4       , 0.11340206, 0.86734694, 0.13402062, 0.97916667]])"
     },
     "execution_count": 35,
     "metadata": {},
     "output_type": "execute_result"
    }
   ],
   "source": [
    "df = scaler_model.fit_transform(df)"
   ],
   "metadata": {
    "collapsed": false,
    "pycharm": {
     "name": "#%%\n"
    }
   }
  },
  {
   "cell_type": "markdown",
   "metadata": {
    "pycharm": {
     "name": "#%% md\n"
    }
   },
   "source": [
    "** Using your previously created DataFrame, use [df.columns = [...]](https://stackoverflow.com/questions/11346283/renaming-columns-in-pandas) to rename the pandas columns to be ['f1','f2','f3','f4','label']. Then perform a train/test split with scikitlearn.**"
   ]
  },
  {
   "cell_type": "code",
   "execution_count": 37,
   "outputs": [],
   "source": [
    "# perform train/test split\n",
    "from sklearn.model_selection import train_test_split\n",
    "X = df[['f1','f2','f3']]\n",
    "y = df[['label']]\n",
    "X_train, X_test, y_train, y_test = train_test_split(X, y, test_size=0.3)"
   ],
   "metadata": {
    "collapsed": false,
    "pycharm": {
     "name": "#%%\n"
    }
   }
  },
  {
   "cell_type": "code",
   "execution_count": 38,
   "outputs": [
    {
     "data": {
      "text/plain": "    f1  f2  f3\n98  59  28  16\n11  79  97  93\n48  73  93  94\n97  65  60  89\n79  73   5  37\n21  82  57  77\n84  88  67  75\n45  59  66   1\n71  97  25  57\n94  65  93  37\n60  98  39  32\n24  27  75   5\n42  64  63  80\n16  58  92  11\n55  20  82  30\n23  81  23  94\n6   87   0  73\n25  89  63  82\n8    7  10  52\n81  46  71  91\n20  23  35  79\n96  41  72  45\n68  88  76  93\n15  86   9  45\n72  32  83  97\n73  13  70  15\n39  88  79  93\n18  47  14  69\n85  20  15  57\n58   6  54  47",
      "text/html": "<div>\n<style scoped>\n    .dataframe tbody tr th:only-of-type {\n        vertical-align: middle;\n    }\n\n    .dataframe tbody tr th {\n        vertical-align: top;\n    }\n\n    .dataframe thead th {\n        text-align: right;\n    }\n</style>\n<table border=\"1\" class=\"dataframe\">\n  <thead>\n    <tr style=\"text-align: right;\">\n      <th></th>\n      <th>f1</th>\n      <th>f2</th>\n      <th>f3</th>\n    </tr>\n  </thead>\n  <tbody>\n    <tr>\n      <th>98</th>\n      <td>59</td>\n      <td>28</td>\n      <td>16</td>\n    </tr>\n    <tr>\n      <th>11</th>\n      <td>79</td>\n      <td>97</td>\n      <td>93</td>\n    </tr>\n    <tr>\n      <th>48</th>\n      <td>73</td>\n      <td>93</td>\n      <td>94</td>\n    </tr>\n    <tr>\n      <th>97</th>\n      <td>65</td>\n      <td>60</td>\n      <td>89</td>\n    </tr>\n    <tr>\n      <th>79</th>\n      <td>73</td>\n      <td>5</td>\n      <td>37</td>\n    </tr>\n    <tr>\n      <th>21</th>\n      <td>82</td>\n      <td>57</td>\n      <td>77</td>\n    </tr>\n    <tr>\n      <th>84</th>\n      <td>88</td>\n      <td>67</td>\n      <td>75</td>\n    </tr>\n    <tr>\n      <th>45</th>\n      <td>59</td>\n      <td>66</td>\n      <td>1</td>\n    </tr>\n    <tr>\n      <th>71</th>\n      <td>97</td>\n      <td>25</td>\n      <td>57</td>\n    </tr>\n    <tr>\n      <th>94</th>\n      <td>65</td>\n      <td>93</td>\n      <td>37</td>\n    </tr>\n    <tr>\n      <th>60</th>\n      <td>98</td>\n      <td>39</td>\n      <td>32</td>\n    </tr>\n    <tr>\n      <th>24</th>\n      <td>27</td>\n      <td>75</td>\n      <td>5</td>\n    </tr>\n    <tr>\n      <th>42</th>\n      <td>64</td>\n      <td>63</td>\n      <td>80</td>\n    </tr>\n    <tr>\n      <th>16</th>\n      <td>58</td>\n      <td>92</td>\n      <td>11</td>\n    </tr>\n    <tr>\n      <th>55</th>\n      <td>20</td>\n      <td>82</td>\n      <td>30</td>\n    </tr>\n    <tr>\n      <th>23</th>\n      <td>81</td>\n      <td>23</td>\n      <td>94</td>\n    </tr>\n    <tr>\n      <th>6</th>\n      <td>87</td>\n      <td>0</td>\n      <td>73</td>\n    </tr>\n    <tr>\n      <th>25</th>\n      <td>89</td>\n      <td>63</td>\n      <td>82</td>\n    </tr>\n    <tr>\n      <th>8</th>\n      <td>7</td>\n      <td>10</td>\n      <td>52</td>\n    </tr>\n    <tr>\n      <th>81</th>\n      <td>46</td>\n      <td>71</td>\n      <td>91</td>\n    </tr>\n    <tr>\n      <th>20</th>\n      <td>23</td>\n      <td>35</td>\n      <td>79</td>\n    </tr>\n    <tr>\n      <th>96</th>\n      <td>41</td>\n      <td>72</td>\n      <td>45</td>\n    </tr>\n    <tr>\n      <th>68</th>\n      <td>88</td>\n      <td>76</td>\n      <td>93</td>\n    </tr>\n    <tr>\n      <th>15</th>\n      <td>86</td>\n      <td>9</td>\n      <td>45</td>\n    </tr>\n    <tr>\n      <th>72</th>\n      <td>32</td>\n      <td>83</td>\n      <td>97</td>\n    </tr>\n    <tr>\n      <th>73</th>\n      <td>13</td>\n      <td>70</td>\n      <td>15</td>\n    </tr>\n    <tr>\n      <th>39</th>\n      <td>88</td>\n      <td>79</td>\n      <td>93</td>\n    </tr>\n    <tr>\n      <th>18</th>\n      <td>47</td>\n      <td>14</td>\n      <td>69</td>\n    </tr>\n    <tr>\n      <th>85</th>\n      <td>20</td>\n      <td>15</td>\n      <td>57</td>\n    </tr>\n    <tr>\n      <th>58</th>\n      <td>6</td>\n      <td>54</td>\n      <td>47</td>\n    </tr>\n  </tbody>\n</table>\n</div>"
     },
     "execution_count": 38,
     "metadata": {},
     "output_type": "execute_result"
    }
   ],
   "source": [
    "X_test"
   ],
   "metadata": {
    "collapsed": false,
    "pycharm": {
     "name": "#%%\n"
    }
   }
  },
  {
   "cell_type": "code",
   "execution_count": 40,
   "outputs": [
    {
     "data": {
      "text/plain": "    f1  f2  f3\n65  36  31  16\n66  96   3  12\n46  57  35  42\n10  44   0  12\n14  26  87  46\n..  ..  ..  ..\n77  64  44   4\n1    9  77  40\n69  68  69  59\n19  51   6  88\n91  88  78  14\n\n[70 rows x 3 columns]",
      "text/html": "<div>\n<style scoped>\n    .dataframe tbody tr th:only-of-type {\n        vertical-align: middle;\n    }\n\n    .dataframe tbody tr th {\n        vertical-align: top;\n    }\n\n    .dataframe thead th {\n        text-align: right;\n    }\n</style>\n<table border=\"1\" class=\"dataframe\">\n  <thead>\n    <tr style=\"text-align: right;\">\n      <th></th>\n      <th>f1</th>\n      <th>f2</th>\n      <th>f3</th>\n    </tr>\n  </thead>\n  <tbody>\n    <tr>\n      <th>65</th>\n      <td>36</td>\n      <td>31</td>\n      <td>16</td>\n    </tr>\n    <tr>\n      <th>66</th>\n      <td>96</td>\n      <td>3</td>\n      <td>12</td>\n    </tr>\n    <tr>\n      <th>46</th>\n      <td>57</td>\n      <td>35</td>\n      <td>42</td>\n    </tr>\n    <tr>\n      <th>10</th>\n      <td>44</td>\n      <td>0</td>\n      <td>12</td>\n    </tr>\n    <tr>\n      <th>14</th>\n      <td>26</td>\n      <td>87</td>\n      <td>46</td>\n    </tr>\n    <tr>\n      <th>...</th>\n      <td>...</td>\n      <td>...</td>\n      <td>...</td>\n    </tr>\n    <tr>\n      <th>77</th>\n      <td>64</td>\n      <td>44</td>\n      <td>4</td>\n    </tr>\n    <tr>\n      <th>1</th>\n      <td>9</td>\n      <td>77</td>\n      <td>40</td>\n    </tr>\n    <tr>\n      <th>69</th>\n      <td>68</td>\n      <td>69</td>\n      <td>59</td>\n    </tr>\n    <tr>\n      <th>19</th>\n      <td>51</td>\n      <td>6</td>\n      <td>88</td>\n    </tr>\n    <tr>\n      <th>91</th>\n      <td>88</td>\n      <td>78</td>\n      <td>14</td>\n    </tr>\n  </tbody>\n</table>\n<p>70 rows × 3 columns</p>\n</div>"
     },
     "execution_count": 40,
     "metadata": {},
     "output_type": "execute_result"
    }
   ],
   "source": [
    "X_train"
   ],
   "metadata": {
    "collapsed": false,
    "pycharm": {
     "name": "#%%\n"
    }
   }
  },
  {
   "cell_type": "markdown",
   "metadata": {
    "pycharm": {
     "name": "#%% md\n"
    }
   },
   "source": [
    "# Great Job!"
   ]
  }
 ],
 "metadata": {
  "kernelspec": {
   "display_name": "Python 3",
   "language": "python",
   "name": "python3"
  },
  "language_info": {
   "codemirror_mode": {
    "name": "ipython",
    "version": 3
   },
   "file_extension": ".py",
   "mimetype": "text/x-python",
   "name": "python",
   "nbconvert_exporter": "python",
   "pygments_lexer": "ipython3",
   "version": "3.5.4"
  }
 },
 "nbformat": 4,
 "nbformat_minor": 2
}