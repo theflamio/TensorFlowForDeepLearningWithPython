{
 "cells": [
  {
   "cell_type": "markdown",
   "source": [
    "# Variables and Placeholders\n",
    "\n",
    "There are two main types of tensor objects in a Graph:\n",
    "\n",
    "1. Variables\n",
    "2. Placeholders\n",
    "\n",
    "\n",
    "During the optimization process TensorFlow tunes the parameters of the model.\n",
    "\n",
    "1. Variables can hold the values of weights and biases throughout the session.\n",
    "\n",
    "2. Variables need to be initialized.\n",
    "\n",
    "3. Placeholders are initially empty and are used to feed in the actual training examples.\n",
    "\n",
    "4. However, they do need a declared expected data type (tf.float32) with an optional shape argument.\n"
   ],
   "metadata": {
    "collapsed": false,
    "pycharm": {
     "name": "#%% md\n"
    }
   }
  },
  {
   "cell_type": "code",
   "execution_count": 2,
   "outputs": [],
   "source": [
    "import tensorflow as tf"
   ],
   "metadata": {
    "collapsed": false,
    "pycharm": {
     "name": "#%%\n"
    }
   }
  },
  {
   "cell_type": "code",
   "execution_count": 3,
   "outputs": [],
   "source": [
    "sess = tf.compat.v1.InteractiveSession()"
   ],
   "metadata": {
    "collapsed": false,
    "pycharm": {
     "name": "#%%\n"
    }
   }
  },
  {
   "cell_type": "code",
   "execution_count": 4,
   "outputs": [],
   "source": [
    "my_tensor = tf.compat.v1.random_uniform((4,4),0,1)"
   ],
   "metadata": {
    "collapsed": false,
    "pycharm": {
     "name": "#%%\n"
    }
   }
  },
  {
   "cell_type": "code",
   "execution_count": 5,
   "outputs": [
    {
     "data": {
      "text/plain": "<tf.Tensor: shape=(4, 4), dtype=float32, numpy=\narray([[0.93650424, 0.14545631, 0.6915741 , 0.43169594],\n       [0.5994345 , 0.703048  , 0.22712624, 0.98364246],\n       [0.21376681, 0.94015646, 0.70288825, 0.33478105],\n       [0.081195  , 0.74686265, 0.45923328, 0.86179173]], dtype=float32)>"
     },
     "execution_count": 5,
     "metadata": {},
     "output_type": "execute_result"
    }
   ],
   "source": [
    "my_tensor"
   ],
   "metadata": {
    "collapsed": false,
    "pycharm": {
     "name": "#%%\n"
    }
   }
  },
  {
   "cell_type": "code",
   "execution_count": 6,
   "outputs": [],
   "source": [
    "my_var = tf.Variable(initial_value=my_tensor)"
   ],
   "metadata": {
    "collapsed": false,
    "pycharm": {
     "name": "#%%\n"
    }
   }
  },
  {
   "cell_type": "code",
   "execution_count": null,
   "outputs": [],
   "source": [],
   "metadata": {
    "collapsed": false,
    "pycharm": {
     "name": "#%%\n"
    }
   }
  }
 ],
 "metadata": {
  "kernelspec": {
   "display_name": "Python 3",
   "language": "python",
   "name": "python3"
  },
  "language_info": {
   "codemirror_mode": {
    "name": "ipython",
    "version": 2
   },
   "file_extension": ".py",
   "mimetype": "text/x-python",
   "name": "python",
   "nbconvert_exporter": "python",
   "pygments_lexer": "ipython2",
   "version": "2.7.6"
  }
 },
 "nbformat": 4,
 "nbformat_minor": 0
}