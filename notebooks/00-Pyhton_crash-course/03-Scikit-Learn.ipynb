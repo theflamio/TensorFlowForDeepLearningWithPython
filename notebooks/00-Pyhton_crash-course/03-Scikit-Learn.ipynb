{
 "cells": [
  {
   "cell_type": "code",
   "execution_count": 12,
   "metadata": {
    "collapsed": true,
    "pycharm": {
     "name": "#%%\n"
    }
   },
   "outputs": [],
   "source": [
    "import numpy as np"
   ]
  },
  {
   "cell_type": "code",
   "execution_count": 13,
   "outputs": [],
   "source": [
    "from sklearn.preprocessing import MinMaxScaler"
   ],
   "metadata": {
    "collapsed": false,
    "pycharm": {
     "name": "#%%\n"
    }
   }
  },
  {
   "cell_type": "code",
   "execution_count": 14,
   "outputs": [],
   "source": [
    "data = np.random.randint(0,100,(10,2))"
   ],
   "metadata": {
    "collapsed": false,
    "pycharm": {
     "name": "#%%\n"
    }
   }
  },
  {
   "cell_type": "code",
   "execution_count": 15,
   "outputs": [],
   "source": [
    "scaler_model = MinMaxScaler()"
   ],
   "metadata": {
    "collapsed": false,
    "pycharm": {
     "name": "#%%\n"
    }
   }
  },
  {
   "cell_type": "code",
   "execution_count": 16,
   "outputs": [
    {
     "data": {
      "text/plain": "sklearn.preprocessing._data.MinMaxScaler"
     },
     "execution_count": 16,
     "metadata": {},
     "output_type": "execute_result"
    }
   ],
   "source": [
    "type(scaler_model)"
   ],
   "metadata": {
    "collapsed": false,
    "pycharm": {
     "name": "#%%\n"
    }
   }
  },
  {
   "cell_type": "code",
   "execution_count": 17,
   "outputs": [
    {
     "data": {
      "text/plain": "MinMaxScaler()"
     },
     "execution_count": 17,
     "metadata": {},
     "output_type": "execute_result"
    }
   ],
   "source": [
    "scaler_model.fit(data)"
   ],
   "metadata": {
    "collapsed": false,
    "pycharm": {
     "name": "#%%\n"
    }
   }
  },
  {
   "cell_type": "code",
   "execution_count": 18,
   "outputs": [
    {
     "data": {
      "text/plain": "array([[0.22222222, 0.97183099],\n       [0.87777778, 0.67605634],\n       [0.        , 0.        ],\n       [0.62222222, 0.90140845],\n       [0.36666667, 1.        ],\n       [0.88888889, 0.6056338 ],\n       [0.61111111, 0.47887324],\n       [0.        , 0.92957746],\n       [1.        , 0.81690141],\n       [0.83333333, 0.78873239]])"
     },
     "execution_count": 18,
     "metadata": {},
     "output_type": "execute_result"
    }
   ],
   "source": [
    "scaler_model.transform(data)"
   ],
   "metadata": {
    "collapsed": false,
    "pycharm": {
     "name": "#%%\n"
    }
   }
  },
  {
   "cell_type": "code",
   "execution_count": 19,
   "outputs": [
    {
     "data": {
      "text/plain": "array([[0.22222222, 0.97183099],\n       [0.87777778, 0.67605634],\n       [0.        , 0.        ],\n       [0.62222222, 0.90140845],\n       [0.36666667, 1.        ],\n       [0.88888889, 0.6056338 ],\n       [0.61111111, 0.47887324],\n       [0.        , 0.92957746],\n       [1.        , 0.81690141],\n       [0.83333333, 0.78873239]])"
     },
     "execution_count": 19,
     "metadata": {},
     "output_type": "execute_result"
    }
   ],
   "source": [
    "scaler_model.fit_transform(data)"
   ],
   "metadata": {
    "collapsed": false,
    "pycharm": {
     "name": "#%%\n"
    }
   }
  },
  {
   "cell_type": "code",
   "execution_count": 21,
   "outputs": [],
   "source": [
    "import pandas as pd"
   ],
   "metadata": {
    "collapsed": false,
    "pycharm": {
     "name": "#%%\n"
    }
   }
  },
  {
   "cell_type": "code",
   "execution_count": 26,
   "outputs": [],
   "source": [
    "df = pd.DataFrame(data=np.random.randint(0,101,(50,4)), columns= ['f1','f2','f3','label'])"
   ],
   "metadata": {
    "collapsed": false,
    "pycharm": {
     "name": "#%%\n"
    }
   }
  },
  {
   "cell_type": "code",
   "execution_count": 27,
   "outputs": [
    {
     "data": {
      "text/plain": "     f1  f2  f3  label\n0    92  86  11     58\n1    96  18  91     95\n2     3   1  84     38\n3    38  33   6     17\n4    82  40  63     18\n5    46  82  73     84\n6    39  87  97     69\n7    73  41  98     91\n8     0   9  47     42\n9    16  36  17     36\n10   93   8  42     46\n11   49   0  98     44\n12   59  74  18     51\n13   75  33  64      2\n14   36  61   7     96\n15   78  71  17     41\n16   17  78  45     39\n17   80  67   4     43\n18   43  91   3     79\n19   41  11  97     45\n20    2  64  22     52\n21   83   6  79     71\n22   54   0  55     70\n23   19  49  89     73\n24   51  47  39     63\n25   56  69  88     17\n26   80  27  82     66\n27   27  53  42     54\n28   29  74  70     17\n29   55  78   9      0\n30   76  56  53     30\n31   59  49  55     43\n32   70  10  29     80\n33   84  11  51      6\n34   49  32  69     45\n35   83  14  53     78\n36   29   9  12     40\n37   84  51  98     98\n38   63  23  84     87\n39   85  79  79     67\n40   54  63  76     67\n41   75  24  77     27\n42   14  46  49     70\n43   10  39  48     16\n44   99  28  20     16\n45   57  79  90     91\n46   40  52  47     86\n47  100  49  34     37\n48   76  57  92     19\n49   97  10  45     71",
      "text/html": "<div>\n<style scoped>\n    .dataframe tbody tr th:only-of-type {\n        vertical-align: middle;\n    }\n\n    .dataframe tbody tr th {\n        vertical-align: top;\n    }\n\n    .dataframe thead th {\n        text-align: right;\n    }\n</style>\n<table border=\"1\" class=\"dataframe\">\n  <thead>\n    <tr style=\"text-align: right;\">\n      <th></th>\n      <th>f1</th>\n      <th>f2</th>\n      <th>f3</th>\n      <th>label</th>\n    </tr>\n  </thead>\n  <tbody>\n    <tr>\n      <th>0</th>\n      <td>92</td>\n      <td>86</td>\n      <td>11</td>\n      <td>58</td>\n    </tr>\n    <tr>\n      <th>1</th>\n      <td>96</td>\n      <td>18</td>\n      <td>91</td>\n      <td>95</td>\n    </tr>\n    <tr>\n      <th>2</th>\n      <td>3</td>\n      <td>1</td>\n      <td>84</td>\n      <td>38</td>\n    </tr>\n    <tr>\n      <th>3</th>\n      <td>38</td>\n      <td>33</td>\n      <td>6</td>\n      <td>17</td>\n    </tr>\n    <tr>\n      <th>4</th>\n      <td>82</td>\n      <td>40</td>\n      <td>63</td>\n      <td>18</td>\n    </tr>\n    <tr>\n      <th>5</th>\n      <td>46</td>\n      <td>82</td>\n      <td>73</td>\n      <td>84</td>\n    </tr>\n    <tr>\n      <th>6</th>\n      <td>39</td>\n      <td>87</td>\n      <td>97</td>\n      <td>69</td>\n    </tr>\n    <tr>\n      <th>7</th>\n      <td>73</td>\n      <td>41</td>\n      <td>98</td>\n      <td>91</td>\n    </tr>\n    <tr>\n      <th>8</th>\n      <td>0</td>\n      <td>9</td>\n      <td>47</td>\n      <td>42</td>\n    </tr>\n    <tr>\n      <th>9</th>\n      <td>16</td>\n      <td>36</td>\n      <td>17</td>\n      <td>36</td>\n    </tr>\n    <tr>\n      <th>10</th>\n      <td>93</td>\n      <td>8</td>\n      <td>42</td>\n      <td>46</td>\n    </tr>\n    <tr>\n      <th>11</th>\n      <td>49</td>\n      <td>0</td>\n      <td>98</td>\n      <td>44</td>\n    </tr>\n    <tr>\n      <th>12</th>\n      <td>59</td>\n      <td>74</td>\n      <td>18</td>\n      <td>51</td>\n    </tr>\n    <tr>\n      <th>13</th>\n      <td>75</td>\n      <td>33</td>\n      <td>64</td>\n      <td>2</td>\n    </tr>\n    <tr>\n      <th>14</th>\n      <td>36</td>\n      <td>61</td>\n      <td>7</td>\n      <td>96</td>\n    </tr>\n    <tr>\n      <th>15</th>\n      <td>78</td>\n      <td>71</td>\n      <td>17</td>\n      <td>41</td>\n    </tr>\n    <tr>\n      <th>16</th>\n      <td>17</td>\n      <td>78</td>\n      <td>45</td>\n      <td>39</td>\n    </tr>\n    <tr>\n      <th>17</th>\n      <td>80</td>\n      <td>67</td>\n      <td>4</td>\n      <td>43</td>\n    </tr>\n    <tr>\n      <th>18</th>\n      <td>43</td>\n      <td>91</td>\n      <td>3</td>\n      <td>79</td>\n    </tr>\n    <tr>\n      <th>19</th>\n      <td>41</td>\n      <td>11</td>\n      <td>97</td>\n      <td>45</td>\n    </tr>\n    <tr>\n      <th>20</th>\n      <td>2</td>\n      <td>64</td>\n      <td>22</td>\n      <td>52</td>\n    </tr>\n    <tr>\n      <th>21</th>\n      <td>83</td>\n      <td>6</td>\n      <td>79</td>\n      <td>71</td>\n    </tr>\n    <tr>\n      <th>22</th>\n      <td>54</td>\n      <td>0</td>\n      <td>55</td>\n      <td>70</td>\n    </tr>\n    <tr>\n      <th>23</th>\n      <td>19</td>\n      <td>49</td>\n      <td>89</td>\n      <td>73</td>\n    </tr>\n    <tr>\n      <th>24</th>\n      <td>51</td>\n      <td>47</td>\n      <td>39</td>\n      <td>63</td>\n    </tr>\n    <tr>\n      <th>25</th>\n      <td>56</td>\n      <td>69</td>\n      <td>88</td>\n      <td>17</td>\n    </tr>\n    <tr>\n      <th>26</th>\n      <td>80</td>\n      <td>27</td>\n      <td>82</td>\n      <td>66</td>\n    </tr>\n    <tr>\n      <th>27</th>\n      <td>27</td>\n      <td>53</td>\n      <td>42</td>\n      <td>54</td>\n    </tr>\n    <tr>\n      <th>28</th>\n      <td>29</td>\n      <td>74</td>\n      <td>70</td>\n      <td>17</td>\n    </tr>\n    <tr>\n      <th>29</th>\n      <td>55</td>\n      <td>78</td>\n      <td>9</td>\n      <td>0</td>\n    </tr>\n    <tr>\n      <th>30</th>\n      <td>76</td>\n      <td>56</td>\n      <td>53</td>\n      <td>30</td>\n    </tr>\n    <tr>\n      <th>31</th>\n      <td>59</td>\n      <td>49</td>\n      <td>55</td>\n      <td>43</td>\n    </tr>\n    <tr>\n      <th>32</th>\n      <td>70</td>\n      <td>10</td>\n      <td>29</td>\n      <td>80</td>\n    </tr>\n    <tr>\n      <th>33</th>\n      <td>84</td>\n      <td>11</td>\n      <td>51</td>\n      <td>6</td>\n    </tr>\n    <tr>\n      <th>34</th>\n      <td>49</td>\n      <td>32</td>\n      <td>69</td>\n      <td>45</td>\n    </tr>\n    <tr>\n      <th>35</th>\n      <td>83</td>\n      <td>14</td>\n      <td>53</td>\n      <td>78</td>\n    </tr>\n    <tr>\n      <th>36</th>\n      <td>29</td>\n      <td>9</td>\n      <td>12</td>\n      <td>40</td>\n    </tr>\n    <tr>\n      <th>37</th>\n      <td>84</td>\n      <td>51</td>\n      <td>98</td>\n      <td>98</td>\n    </tr>\n    <tr>\n      <th>38</th>\n      <td>63</td>\n      <td>23</td>\n      <td>84</td>\n      <td>87</td>\n    </tr>\n    <tr>\n      <th>39</th>\n      <td>85</td>\n      <td>79</td>\n      <td>79</td>\n      <td>67</td>\n    </tr>\n    <tr>\n      <th>40</th>\n      <td>54</td>\n      <td>63</td>\n      <td>76</td>\n      <td>67</td>\n    </tr>\n    <tr>\n      <th>41</th>\n      <td>75</td>\n      <td>24</td>\n      <td>77</td>\n      <td>27</td>\n    </tr>\n    <tr>\n      <th>42</th>\n      <td>14</td>\n      <td>46</td>\n      <td>49</td>\n      <td>70</td>\n    </tr>\n    <tr>\n      <th>43</th>\n      <td>10</td>\n      <td>39</td>\n      <td>48</td>\n      <td>16</td>\n    </tr>\n    <tr>\n      <th>44</th>\n      <td>99</td>\n      <td>28</td>\n      <td>20</td>\n      <td>16</td>\n    </tr>\n    <tr>\n      <th>45</th>\n      <td>57</td>\n      <td>79</td>\n      <td>90</td>\n      <td>91</td>\n    </tr>\n    <tr>\n      <th>46</th>\n      <td>40</td>\n      <td>52</td>\n      <td>47</td>\n      <td>86</td>\n    </tr>\n    <tr>\n      <th>47</th>\n      <td>100</td>\n      <td>49</td>\n      <td>34</td>\n      <td>37</td>\n    </tr>\n    <tr>\n      <th>48</th>\n      <td>76</td>\n      <td>57</td>\n      <td>92</td>\n      <td>19</td>\n    </tr>\n    <tr>\n      <th>49</th>\n      <td>97</td>\n      <td>10</td>\n      <td>45</td>\n      <td>71</td>\n    </tr>\n  </tbody>\n</table>\n</div>"
     },
     "execution_count": 27,
     "metadata": {},
     "output_type": "execute_result"
    }
   ],
   "source": [
    "df"
   ],
   "metadata": {
    "collapsed": false,
    "pycharm": {
     "name": "#%%\n"
    }
   }
  },
  {
   "cell_type": "code",
   "execution_count": 29,
   "outputs": [],
   "source": [
    "X = df[['f1','f2','f3']]"
   ],
   "metadata": {
    "collapsed": false,
    "pycharm": {
     "name": "#%%\n"
    }
   }
  },
  {
   "cell_type": "code",
   "execution_count": 31,
   "outputs": [],
   "source": [
    "y = df[['label']]"
   ],
   "metadata": {
    "collapsed": false,
    "pycharm": {
     "name": "#%%\n"
    }
   }
  },
  {
   "cell_type": "code",
   "execution_count": 33,
   "outputs": [],
   "source": [
    "from sklearn.model_selection import train_test_split"
   ],
   "metadata": {
    "collapsed": false,
    "pycharm": {
     "name": "#%%\n"
    }
   }
  },
  {
   "cell_type": "code",
   "execution_count": 36,
   "outputs": [],
   "source": [
    "X_train, X_test, y_train, y_test = train_test_split(X, y, test_size=0.3, random_state=101)"
   ],
   "metadata": {
    "collapsed": false,
    "pycharm": {
     "name": "#%%\n"
    }
   }
  },
  {
   "cell_type": "code",
   "execution_count": 38,
   "outputs": [
    {
     "data": {
      "text/plain": "(35, 3)"
     },
     "execution_count": 38,
     "metadata": {},
     "output_type": "execute_result"
    }
   ],
   "source": [
    "X_train.shape # training data size is 70 % of total data"
   ],
   "metadata": {
    "collapsed": false,
    "pycharm": {
     "name": "#%%\n"
    }
   }
  },
  {
   "cell_type": "code",
   "execution_count": 39,
   "outputs": [
    {
     "data": {
      "text/plain": "(15, 3)"
     },
     "execution_count": 39,
     "metadata": {},
     "output_type": "execute_result"
    }
   ],
   "source": [
    "X_test.shape # test data size is 30 % of total data"
   ],
   "metadata": {
    "collapsed": false,
    "pycharm": {
     "name": "#%%\n"
    }
   }
  }
 ],
 "metadata": {
  "kernelspec": {
   "display_name": "Python 3",
   "language": "python",
   "name": "python3"
  },
  "language_info": {
   "codemirror_mode": {
    "name": "ipython",
    "version": 2
   },
   "file_extension": ".py",
   "mimetype": "text/x-python",
   "name": "python",
   "nbconvert_exporter": "python",
   "pygments_lexer": "ipython2",
   "version": "2.7.6"
  }
 },
 "nbformat": 4,
 "nbformat_minor": 0
}